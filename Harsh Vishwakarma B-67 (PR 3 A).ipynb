{
 "cells": [
  {
   "cell_type": "code",
   "execution_count": 54,
   "metadata": {
    "scrolled": true
   },
   "outputs": [
    {
     "data": {
      "text/html": [
       "<div>\n",
       "<style scoped>\n",
       "    .dataframe tbody tr th:only-of-type {\n",
       "        vertical-align: middle;\n",
       "    }\n",
       "\n",
       "    .dataframe tbody tr th {\n",
       "        vertical-align: top;\n",
       "    }\n",
       "\n",
       "    .dataframe thead th {\n",
       "        text-align: right;\n",
       "    }\n",
       "</style>\n",
       "<table border=\"1\" class=\"dataframe\">\n",
       "  <thead>\n",
       "    <tr style=\"text-align: right;\">\n",
       "      <th></th>\n",
       "      <th>name</th>\n",
       "      <th>rank</th>\n",
       "      <th>year</th>\n",
       "      <th>industry</th>\n",
       "      <th>sector</th>\n",
       "      <th>headquarters_state</th>\n",
       "      <th>headquarters_city</th>\n",
       "      <th>market_value_mil</th>\n",
       "      <th>revenue_mil</th>\n",
       "      <th>profit_mil</th>\n",
       "      <th>asset_mil</th>\n",
       "      <th>employees</th>\n",
       "      <th>founder_is_ceo</th>\n",
       "      <th>female_ceo</th>\n",
       "      <th>newcomer_to_fortune_500</th>\n",
       "      <th>global_500</th>\n",
       "    </tr>\n",
       "  </thead>\n",
       "  <tbody>\n",
       "    <tr>\n",
       "      <th>0</th>\n",
       "      <td>General Motors Corporation</td>\n",
       "      <td>1</td>\n",
       "      <td>1996</td>\n",
       "      <td>Motor Vehicles &amp; Parts</td>\n",
       "      <td>NaN</td>\n",
       "      <td>MI</td>\n",
       "      <td>NaN</td>\n",
       "      <td>NaN</td>\n",
       "      <td>168828.6</td>\n",
       "      <td>NaN</td>\n",
       "      <td>NaN</td>\n",
       "      <td>NaN</td>\n",
       "      <td>NaN</td>\n",
       "      <td>NaN</td>\n",
       "      <td>NaN</td>\n",
       "      <td>NaN</td>\n",
       "    </tr>\n",
       "    <tr>\n",
       "      <th>1</th>\n",
       "      <td>Ford Motor Company</td>\n",
       "      <td>2</td>\n",
       "      <td>1996</td>\n",
       "      <td>Motor Vehicles &amp; Parts</td>\n",
       "      <td>NaN</td>\n",
       "      <td>MI</td>\n",
       "      <td>NaN</td>\n",
       "      <td>NaN</td>\n",
       "      <td>137137.0</td>\n",
       "      <td>NaN</td>\n",
       "      <td>NaN</td>\n",
       "      <td>NaN</td>\n",
       "      <td>NaN</td>\n",
       "      <td>NaN</td>\n",
       "      <td>NaN</td>\n",
       "      <td>NaN</td>\n",
       "    </tr>\n",
       "    <tr>\n",
       "      <th>2</th>\n",
       "      <td>Exxon Corporation</td>\n",
       "      <td>3</td>\n",
       "      <td>1996</td>\n",
       "      <td>Petroleum Refining</td>\n",
       "      <td>NaN</td>\n",
       "      <td>TX</td>\n",
       "      <td>NaN</td>\n",
       "      <td>NaN</td>\n",
       "      <td>110009.0</td>\n",
       "      <td>NaN</td>\n",
       "      <td>NaN</td>\n",
       "      <td>NaN</td>\n",
       "      <td>NaN</td>\n",
       "      <td>NaN</td>\n",
       "      <td>NaN</td>\n",
       "      <td>NaN</td>\n",
       "    </tr>\n",
       "    <tr>\n",
       "      <th>3</th>\n",
       "      <td>Wal-Mart Stores, Inc.</td>\n",
       "      <td>4</td>\n",
       "      <td>1996</td>\n",
       "      <td>General Merchandisers</td>\n",
       "      <td>NaN</td>\n",
       "      <td>AR</td>\n",
       "      <td>NaN</td>\n",
       "      <td>NaN</td>\n",
       "      <td>93627.0</td>\n",
       "      <td>NaN</td>\n",
       "      <td>NaN</td>\n",
       "      <td>NaN</td>\n",
       "      <td>NaN</td>\n",
       "      <td>NaN</td>\n",
       "      <td>NaN</td>\n",
       "      <td>NaN</td>\n",
       "    </tr>\n",
       "    <tr>\n",
       "      <th>4</th>\n",
       "      <td>AT&amp;T Corp.</td>\n",
       "      <td>5</td>\n",
       "      <td>1996</td>\n",
       "      <td>Telecommunications</td>\n",
       "      <td>NaN</td>\n",
       "      <td>NY</td>\n",
       "      <td>NaN</td>\n",
       "      <td>NaN</td>\n",
       "      <td>79609.0</td>\n",
       "      <td>NaN</td>\n",
       "      <td>NaN</td>\n",
       "      <td>NaN</td>\n",
       "      <td>NaN</td>\n",
       "      <td>NaN</td>\n",
       "      <td>NaN</td>\n",
       "      <td>NaN</td>\n",
       "    </tr>\n",
       "    <tr>\n",
       "      <th>...</th>\n",
       "      <td>...</td>\n",
       "      <td>...</td>\n",
       "      <td>...</td>\n",
       "      <td>...</td>\n",
       "      <td>...</td>\n",
       "      <td>...</td>\n",
       "      <td>...</td>\n",
       "      <td>...</td>\n",
       "      <td>...</td>\n",
       "      <td>...</td>\n",
       "      <td>...</td>\n",
       "      <td>...</td>\n",
       "      <td>...</td>\n",
       "      <td>...</td>\n",
       "      <td>...</td>\n",
       "      <td>...</td>\n",
       "    </tr>\n",
       "    <tr>\n",
       "      <th>13935</th>\n",
       "      <td>KKR</td>\n",
       "      <td>496</td>\n",
       "      <td>2023</td>\n",
       "      <td>Securities</td>\n",
       "      <td>Financials</td>\n",
       "      <td>NY</td>\n",
       "      <td>New York</td>\n",
       "      <td>45225.0</td>\n",
       "      <td>7273.0</td>\n",
       "      <td>841.0</td>\n",
       "      <td>277077.0</td>\n",
       "      <td>4150.0</td>\n",
       "      <td>no</td>\n",
       "      <td>no</td>\n",
       "      <td>no</td>\n",
       "      <td>no</td>\n",
       "    </tr>\n",
       "    <tr>\n",
       "      <th>13936</th>\n",
       "      <td>Equinix</td>\n",
       "      <td>497</td>\n",
       "      <td>2023</td>\n",
       "      <td>Real Estate</td>\n",
       "      <td>Financials</td>\n",
       "      <td>CA</td>\n",
       "      <td>Redwood City</td>\n",
       "      <td>66873.0</td>\n",
       "      <td>7263.0</td>\n",
       "      <td>704.0</td>\n",
       "      <td>30311.0</td>\n",
       "      <td>12097.0</td>\n",
       "      <td>no</td>\n",
       "      <td>no</td>\n",
       "      <td>no</td>\n",
       "      <td>no</td>\n",
       "    </tr>\n",
       "    <tr>\n",
       "      <th>13937</th>\n",
       "      <td>Sonoco Products</td>\n",
       "      <td>498</td>\n",
       "      <td>2023</td>\n",
       "      <td>Packaging, Containers</td>\n",
       "      <td>Materials</td>\n",
       "      <td>SC</td>\n",
       "      <td>Hartsville</td>\n",
       "      <td>5975.0</td>\n",
       "      <td>7251.0</td>\n",
       "      <td>466.0</td>\n",
       "      <td>7053.0</td>\n",
       "      <td>22000.0</td>\n",
       "      <td>no</td>\n",
       "      <td>no</td>\n",
       "      <td>yes</td>\n",
       "      <td>no</td>\n",
       "    </tr>\n",
       "    <tr>\n",
       "      <th>13938</th>\n",
       "      <td>ServiceNow</td>\n",
       "      <td>499</td>\n",
       "      <td>2023</td>\n",
       "      <td>Computer Software</td>\n",
       "      <td>Technology</td>\n",
       "      <td>CA</td>\n",
       "      <td>Santa Clara</td>\n",
       "      <td>94338.0</td>\n",
       "      <td>7245.0</td>\n",
       "      <td>325.0</td>\n",
       "      <td>13299.0</td>\n",
       "      <td>20433.0</td>\n",
       "      <td>no</td>\n",
       "      <td>no</td>\n",
       "      <td>yes</td>\n",
       "      <td>no</td>\n",
       "    </tr>\n",
       "    <tr>\n",
       "      <th>13939</th>\n",
       "      <td>Robert Half International</td>\n",
       "      <td>500</td>\n",
       "      <td>2023</td>\n",
       "      <td>Temporary Help</td>\n",
       "      <td>Business Services</td>\n",
       "      <td>CA</td>\n",
       "      <td>Menlo Park</td>\n",
       "      <td>8677.0</td>\n",
       "      <td>7238.0</td>\n",
       "      <td>658.0</td>\n",
       "      <td>2965.0</td>\n",
       "      <td>16300.0</td>\n",
       "      <td>no</td>\n",
       "      <td>no</td>\n",
       "      <td>no</td>\n",
       "      <td>no</td>\n",
       "    </tr>\n",
       "  </tbody>\n",
       "</table>\n",
       "<p>13940 rows × 16 columns</p>\n",
       "</div>"
      ],
      "text/plain": [
       "                             name  rank  year                industry  \\\n",
       "0      General Motors Corporation     1  1996  Motor Vehicles & Parts   \n",
       "1              Ford Motor Company     2  1996  Motor Vehicles & Parts   \n",
       "2               Exxon Corporation     3  1996      Petroleum Refining   \n",
       "3           Wal-Mart Stores, Inc.     4  1996   General Merchandisers   \n",
       "4                      AT&T Corp.     5  1996      Telecommunications   \n",
       "...                           ...   ...   ...                     ...   \n",
       "13935                         KKR   496  2023              Securities   \n",
       "13936                     Equinix   497  2023             Real Estate   \n",
       "13937             Sonoco Products   498  2023   Packaging, Containers   \n",
       "13938                  ServiceNow   499  2023       Computer Software   \n",
       "13939   Robert Half International   500  2023          Temporary Help   \n",
       "\n",
       "                  sector headquarters_state headquarters_city  \\\n",
       "0                    NaN                 MI               NaN   \n",
       "1                    NaN                 MI               NaN   \n",
       "2                    NaN                 TX               NaN   \n",
       "3                    NaN                 AR               NaN   \n",
       "4                    NaN                 NY               NaN   \n",
       "...                  ...                ...               ...   \n",
       "13935         Financials                 NY          New York   \n",
       "13936         Financials                 CA      Redwood City   \n",
       "13937          Materials                 SC        Hartsville   \n",
       "13938         Technology                 CA       Santa Clara   \n",
       "13939  Business Services                 CA        Menlo Park   \n",
       "\n",
       "       market_value_mil  revenue_mil  profit_mil  asset_mil  employees  \\\n",
       "0                   NaN     168828.6         NaN        NaN        NaN   \n",
       "1                   NaN     137137.0         NaN        NaN        NaN   \n",
       "2                   NaN     110009.0         NaN        NaN        NaN   \n",
       "3                   NaN      93627.0         NaN        NaN        NaN   \n",
       "4                   NaN      79609.0         NaN        NaN        NaN   \n",
       "...                 ...          ...         ...        ...        ...   \n",
       "13935           45225.0       7273.0       841.0   277077.0     4150.0   \n",
       "13936           66873.0       7263.0       704.0    30311.0    12097.0   \n",
       "13937            5975.0       7251.0       466.0     7053.0    22000.0   \n",
       "13938           94338.0       7245.0       325.0    13299.0    20433.0   \n",
       "13939            8677.0       7238.0       658.0     2965.0    16300.0   \n",
       "\n",
       "      founder_is_ceo female_ceo newcomer_to_fortune_500 global_500  \n",
       "0                NaN        NaN                     NaN        NaN  \n",
       "1                NaN        NaN                     NaN        NaN  \n",
       "2                NaN        NaN                     NaN        NaN  \n",
       "3                NaN        NaN                     NaN        NaN  \n",
       "4                NaN        NaN                     NaN        NaN  \n",
       "...              ...        ...                     ...        ...  \n",
       "13935             no         no                      no         no  \n",
       "13936             no         no                      no         no  \n",
       "13937             no         no                     yes         no  \n",
       "13938             no         no                     yes         no  \n",
       "13939             no         no                      no         no  \n",
       "\n",
       "[13940 rows x 16 columns]"
      ]
     },
     "execution_count": 54,
     "metadata": {},
     "output_type": "execute_result"
    }
   ],
   "source": [
    "import pandas as pd\n",
    "import numpy as np\n",
    "data=pd.read_csv('fortune500.csv')\n",
    "data"
   ]
  },
  {
   "cell_type": "code",
   "execution_count": 79,
   "metadata": {},
   "outputs": [],
   "source": [
    "from sklearn import preprocessing \n",
    "import matplotlib.pyplot as plt\n",
    "import seaborn as sns"
   ]
  },
  {
   "cell_type": "code",
   "execution_count": 56,
   "metadata": {},
   "outputs": [
    {
     "data": {
      "text/plain": [
       "Index(['name', 'rank', 'year', 'industry', 'sector', 'headquarters_state',\n",
       "       'headquarters_city', 'market_value_mil', 'revenue_mil', 'profit_mil',\n",
       "       'asset_mil', 'employees', 'founder_is_ceo', 'female_ceo',\n",
       "       'newcomer_to_fortune_500', 'global_500'],\n",
       "      dtype='object')"
      ]
     },
     "execution_count": 56,
     "metadata": {},
     "output_type": "execute_result"
    }
   ],
   "source": [
    "data.columns"
   ]
  },
  {
   "cell_type": "code",
   "execution_count": 57,
   "metadata": {},
   "outputs": [],
   "source": [
    "data=data[['name','rank','year','industry','revenue_mil', 'profit_mil','employees','global_500']]"
   ]
  },
  {
   "cell_type": "code",
   "execution_count": 61,
   "metadata": {},
   "outputs": [
    {
     "data": {
      "text/html": [
       "<div>\n",
       "<style scoped>\n",
       "    .dataframe tbody tr th:only-of-type {\n",
       "        vertical-align: middle;\n",
       "    }\n",
       "\n",
       "    .dataframe tbody tr th {\n",
       "        vertical-align: top;\n",
       "    }\n",
       "\n",
       "    .dataframe thead th {\n",
       "        text-align: right;\n",
       "    }\n",
       "</style>\n",
       "<table border=\"1\" class=\"dataframe\">\n",
       "  <thead>\n",
       "    <tr style=\"text-align: right;\">\n",
       "      <th></th>\n",
       "      <th>name</th>\n",
       "      <th>rank</th>\n",
       "      <th>year</th>\n",
       "      <th>industry</th>\n",
       "      <th>revenue_mil</th>\n",
       "      <th>profit_mil</th>\n",
       "      <th>employees</th>\n",
       "      <th>global_500</th>\n",
       "    </tr>\n",
       "  </thead>\n",
       "  <tbody>\n",
       "    <tr>\n",
       "      <th>0</th>\n",
       "      <td>General Motors Corporation</td>\n",
       "      <td>1</td>\n",
       "      <td>1996</td>\n",
       "      <td>Motor Vehicles &amp; Parts</td>\n",
       "      <td>168828.6</td>\n",
       "      <td>NaN</td>\n",
       "      <td>NaN</td>\n",
       "      <td>&lt;NA&gt;</td>\n",
       "    </tr>\n",
       "    <tr>\n",
       "      <th>1</th>\n",
       "      <td>Ford Motor Company</td>\n",
       "      <td>2</td>\n",
       "      <td>1996</td>\n",
       "      <td>Motor Vehicles &amp; Parts</td>\n",
       "      <td>137137.0</td>\n",
       "      <td>NaN</td>\n",
       "      <td>NaN</td>\n",
       "      <td>&lt;NA&gt;</td>\n",
       "    </tr>\n",
       "    <tr>\n",
       "      <th>2</th>\n",
       "      <td>Exxon Corporation</td>\n",
       "      <td>3</td>\n",
       "      <td>1996</td>\n",
       "      <td>Petroleum Refining</td>\n",
       "      <td>110009.0</td>\n",
       "      <td>NaN</td>\n",
       "      <td>NaN</td>\n",
       "      <td>&lt;NA&gt;</td>\n",
       "    </tr>\n",
       "    <tr>\n",
       "      <th>3</th>\n",
       "      <td>Wal-Mart Stores, Inc.</td>\n",
       "      <td>4</td>\n",
       "      <td>1996</td>\n",
       "      <td>General Merchandisers</td>\n",
       "      <td>93627.0</td>\n",
       "      <td>NaN</td>\n",
       "      <td>NaN</td>\n",
       "      <td>&lt;NA&gt;</td>\n",
       "    </tr>\n",
       "    <tr>\n",
       "      <th>4</th>\n",
       "      <td>AT&amp;T Corp.</td>\n",
       "      <td>5</td>\n",
       "      <td>1996</td>\n",
       "      <td>Telecommunications</td>\n",
       "      <td>79609.0</td>\n",
       "      <td>NaN</td>\n",
       "      <td>NaN</td>\n",
       "      <td>&lt;NA&gt;</td>\n",
       "    </tr>\n",
       "    <tr>\n",
       "      <th>5</th>\n",
       "      <td>International Business Machines Corporation</td>\n",
       "      <td>6</td>\n",
       "      <td>1996</td>\n",
       "      <td>Computers, Office Equipment</td>\n",
       "      <td>71940.0</td>\n",
       "      <td>NaN</td>\n",
       "      <td>NaN</td>\n",
       "      <td>&lt;NA&gt;</td>\n",
       "    </tr>\n",
       "    <tr>\n",
       "      <th>6</th>\n",
       "      <td>General Electric Company</td>\n",
       "      <td>7</td>\n",
       "      <td>1996</td>\n",
       "      <td>Electronics, Electrical Equipment</td>\n",
       "      <td>70028.0</td>\n",
       "      <td>NaN</td>\n",
       "      <td>NaN</td>\n",
       "      <td>&lt;NA&gt;</td>\n",
       "    </tr>\n",
       "    <tr>\n",
       "      <th>7</th>\n",
       "      <td>Mobil Corporation</td>\n",
       "      <td>8</td>\n",
       "      <td>1996</td>\n",
       "      <td>Petroleum Refining</td>\n",
       "      <td>66724.0</td>\n",
       "      <td>NaN</td>\n",
       "      <td>NaN</td>\n",
       "      <td>&lt;NA&gt;</td>\n",
       "    </tr>\n",
       "    <tr>\n",
       "      <th>8</th>\n",
       "      <td>Chrysler Corporation</td>\n",
       "      <td>9</td>\n",
       "      <td>1996</td>\n",
       "      <td>Motor Vehicles &amp; Parts</td>\n",
       "      <td>53195.0</td>\n",
       "      <td>NaN</td>\n",
       "      <td>NaN</td>\n",
       "      <td>&lt;NA&gt;</td>\n",
       "    </tr>\n",
       "    <tr>\n",
       "      <th>9</th>\n",
       "      <td>Philip Morris Companies</td>\n",
       "      <td>10</td>\n",
       "      <td>1996</td>\n",
       "      <td>Tobacco</td>\n",
       "      <td>53139.0</td>\n",
       "      <td>NaN</td>\n",
       "      <td>NaN</td>\n",
       "      <td>&lt;NA&gt;</td>\n",
       "    </tr>\n",
       "  </tbody>\n",
       "</table>\n",
       "</div>"
      ],
      "text/plain": [
       "                                          name  rank  year  \\\n",
       "0                   General Motors Corporation     1  1996   \n",
       "1                           Ford Motor Company     2  1996   \n",
       "2                            Exxon Corporation     3  1996   \n",
       "3                        Wal-Mart Stores, Inc.     4  1996   \n",
       "4                                   AT&T Corp.     5  1996   \n",
       "5  International Business Machines Corporation     6  1996   \n",
       "6                     General Electric Company     7  1996   \n",
       "7                            Mobil Corporation     8  1996   \n",
       "8                         Chrysler Corporation     9  1996   \n",
       "9                      Philip Morris Companies    10  1996   \n",
       "\n",
       "                            industry  revenue_mil  profit_mil  employees  \\\n",
       "0             Motor Vehicles & Parts     168828.6         NaN        NaN   \n",
       "1             Motor Vehicles & Parts     137137.0         NaN        NaN   \n",
       "2                 Petroleum Refining     110009.0         NaN        NaN   \n",
       "3              General Merchandisers      93627.0         NaN        NaN   \n",
       "4                 Telecommunications      79609.0         NaN        NaN   \n",
       "5        Computers, Office Equipment      71940.0         NaN        NaN   \n",
       "6  Electronics, Electrical Equipment      70028.0         NaN        NaN   \n",
       "7                 Petroleum Refining      66724.0         NaN        NaN   \n",
       "8             Motor Vehicles & Parts      53195.0         NaN        NaN   \n",
       "9                            Tobacco      53139.0         NaN        NaN   \n",
       "\n",
       "  global_500  \n",
       "0       <NA>  \n",
       "1       <NA>  \n",
       "2       <NA>  \n",
       "3       <NA>  \n",
       "4       <NA>  \n",
       "5       <NA>  \n",
       "6       <NA>  \n",
       "7       <NA>  \n",
       "8       <NA>  \n",
       "9       <NA>  "
      ]
     },
     "execution_count": 61,
     "metadata": {},
     "output_type": "execute_result"
    }
   ],
   "source": [
    "data.head(10)"
   ]
  },
  {
   "cell_type": "code",
   "execution_count": 62,
   "metadata": {},
   "outputs": [
    {
     "name": "stdout",
     "output_type": "stream",
     "text": [
      "<class 'pandas.core.frame.DataFrame'>\n",
      "RangeIndex: 13940 entries, 0 to 13939\n",
      "Data columns (total 8 columns):\n",
      " #   Column       Non-Null Count  Dtype  \n",
      "---  ------       --------------  -----  \n",
      " 0   name         13940 non-null  object \n",
      " 1   rank         13940 non-null  int64  \n",
      " 2   year         13940 non-null  int64  \n",
      " 3   industry     13940 non-null  object \n",
      " 4   revenue_mil  13940 non-null  float64\n",
      " 5   profit_mil   5497 non-null   float64\n",
      " 6   employees    4500 non-null   float64\n",
      " 7   global_500   4000 non-null   string \n",
      "dtypes: float64(3), int64(2), object(2), string(1)\n",
      "memory usage: 871.4+ KB\n"
     ]
    }
   ],
   "source": [
    "data.info()"
   ]
  },
  {
   "cell_type": "code",
   "execution_count": 63,
   "metadata": {},
   "outputs": [],
   "source": [
    "data=data.tail(500)"
   ]
  },
  {
   "cell_type": "code",
   "execution_count": 64,
   "metadata": {},
   "outputs": [
    {
     "data": {
      "text/html": [
       "<div>\n",
       "<style scoped>\n",
       "    .dataframe tbody tr th:only-of-type {\n",
       "        vertical-align: middle;\n",
       "    }\n",
       "\n",
       "    .dataframe tbody tr th {\n",
       "        vertical-align: top;\n",
       "    }\n",
       "\n",
       "    .dataframe thead th {\n",
       "        text-align: right;\n",
       "    }\n",
       "</style>\n",
       "<table border=\"1\" class=\"dataframe\">\n",
       "  <thead>\n",
       "    <tr style=\"text-align: right;\">\n",
       "      <th></th>\n",
       "      <th>name</th>\n",
       "      <th>rank</th>\n",
       "      <th>year</th>\n",
       "      <th>industry</th>\n",
       "      <th>revenue_mil</th>\n",
       "      <th>profit_mil</th>\n",
       "      <th>employees</th>\n",
       "      <th>global_500</th>\n",
       "    </tr>\n",
       "  </thead>\n",
       "  <tbody>\n",
       "    <tr>\n",
       "      <th>13440</th>\n",
       "      <td>Walmart</td>\n",
       "      <td>1</td>\n",
       "      <td>2023</td>\n",
       "      <td>General Merchandisers</td>\n",
       "      <td>611289.0</td>\n",
       "      <td>11680.0</td>\n",
       "      <td>2100000.0</td>\n",
       "      <td>yes</td>\n",
       "    </tr>\n",
       "    <tr>\n",
       "      <th>13441</th>\n",
       "      <td>Amazon</td>\n",
       "      <td>2</td>\n",
       "      <td>2023</td>\n",
       "      <td>Internet Services and Retailing</td>\n",
       "      <td>513983.0</td>\n",
       "      <td>2722.0</td>\n",
       "      <td>1541000.0</td>\n",
       "      <td>yes</td>\n",
       "    </tr>\n",
       "    <tr>\n",
       "      <th>13442</th>\n",
       "      <td>Exxon Mobil</td>\n",
       "      <td>3</td>\n",
       "      <td>2023</td>\n",
       "      <td>Petroleum Refining</td>\n",
       "      <td>413680.0</td>\n",
       "      <td>55740.0</td>\n",
       "      <td>62000.0</td>\n",
       "      <td>yes</td>\n",
       "    </tr>\n",
       "    <tr>\n",
       "      <th>13443</th>\n",
       "      <td>Apple</td>\n",
       "      <td>4</td>\n",
       "      <td>2023</td>\n",
       "      <td>Computers, Office Equipment</td>\n",
       "      <td>394328.0</td>\n",
       "      <td>99803.0</td>\n",
       "      <td>164000.0</td>\n",
       "      <td>yes</td>\n",
       "    </tr>\n",
       "    <tr>\n",
       "      <th>13444</th>\n",
       "      <td>UnitedHealth Group</td>\n",
       "      <td>5</td>\n",
       "      <td>2023</td>\n",
       "      <td>Health Care: Insurance and Managed Care</td>\n",
       "      <td>324162.0</td>\n",
       "      <td>20120.0</td>\n",
       "      <td>400000.0</td>\n",
       "      <td>yes</td>\n",
       "    </tr>\n",
       "    <tr>\n",
       "      <th>...</th>\n",
       "      <td>...</td>\n",
       "      <td>...</td>\n",
       "      <td>...</td>\n",
       "      <td>...</td>\n",
       "      <td>...</td>\n",
       "      <td>...</td>\n",
       "      <td>...</td>\n",
       "      <td>...</td>\n",
       "    </tr>\n",
       "    <tr>\n",
       "      <th>13935</th>\n",
       "      <td>KKR</td>\n",
       "      <td>496</td>\n",
       "      <td>2023</td>\n",
       "      <td>Securities</td>\n",
       "      <td>7273.0</td>\n",
       "      <td>841.0</td>\n",
       "      <td>4150.0</td>\n",
       "      <td>no</td>\n",
       "    </tr>\n",
       "    <tr>\n",
       "      <th>13936</th>\n",
       "      <td>Equinix</td>\n",
       "      <td>497</td>\n",
       "      <td>2023</td>\n",
       "      <td>Real Estate</td>\n",
       "      <td>7263.0</td>\n",
       "      <td>704.0</td>\n",
       "      <td>12097.0</td>\n",
       "      <td>no</td>\n",
       "    </tr>\n",
       "    <tr>\n",
       "      <th>13937</th>\n",
       "      <td>Sonoco Products</td>\n",
       "      <td>498</td>\n",
       "      <td>2023</td>\n",
       "      <td>Packaging, Containers</td>\n",
       "      <td>7251.0</td>\n",
       "      <td>466.0</td>\n",
       "      <td>22000.0</td>\n",
       "      <td>no</td>\n",
       "    </tr>\n",
       "    <tr>\n",
       "      <th>13938</th>\n",
       "      <td>ServiceNow</td>\n",
       "      <td>499</td>\n",
       "      <td>2023</td>\n",
       "      <td>Computer Software</td>\n",
       "      <td>7245.0</td>\n",
       "      <td>325.0</td>\n",
       "      <td>20433.0</td>\n",
       "      <td>no</td>\n",
       "    </tr>\n",
       "    <tr>\n",
       "      <th>13939</th>\n",
       "      <td>Robert Half International</td>\n",
       "      <td>500</td>\n",
       "      <td>2023</td>\n",
       "      <td>Temporary Help</td>\n",
       "      <td>7238.0</td>\n",
       "      <td>658.0</td>\n",
       "      <td>16300.0</td>\n",
       "      <td>no</td>\n",
       "    </tr>\n",
       "  </tbody>\n",
       "</table>\n",
       "<p>500 rows × 8 columns</p>\n",
       "</div>"
      ],
      "text/plain": [
       "                            name  rank  year  \\\n",
       "13440                    Walmart     1  2023   \n",
       "13441                     Amazon     2  2023   \n",
       "13442                Exxon Mobil     3  2023   \n",
       "13443                      Apple     4  2023   \n",
       "13444         UnitedHealth Group     5  2023   \n",
       "...                          ...   ...   ...   \n",
       "13935                        KKR   496  2023   \n",
       "13936                    Equinix   497  2023   \n",
       "13937            Sonoco Products   498  2023   \n",
       "13938                 ServiceNow   499  2023   \n",
       "13939  Robert Half International   500  2023   \n",
       "\n",
       "                                      industry  revenue_mil  profit_mil  \\\n",
       "13440                    General Merchandisers     611289.0     11680.0   \n",
       "13441          Internet Services and Retailing     513983.0      2722.0   \n",
       "13442                       Petroleum Refining     413680.0     55740.0   \n",
       "13443              Computers, Office Equipment     394328.0     99803.0   \n",
       "13444  Health Care: Insurance and Managed Care     324162.0     20120.0   \n",
       "...                                        ...          ...         ...   \n",
       "13935                               Securities       7273.0       841.0   \n",
       "13936                              Real Estate       7263.0       704.0   \n",
       "13937                    Packaging, Containers       7251.0       466.0   \n",
       "13938                        Computer Software       7245.0       325.0   \n",
       "13939                           Temporary Help       7238.0       658.0   \n",
       "\n",
       "       employees global_500  \n",
       "13440  2100000.0        yes  \n",
       "13441  1541000.0        yes  \n",
       "13442    62000.0        yes  \n",
       "13443   164000.0        yes  \n",
       "13444   400000.0        yes  \n",
       "...          ...        ...  \n",
       "13935     4150.0         no  \n",
       "13936    12097.0         no  \n",
       "13937    22000.0         no  \n",
       "13938    20433.0         no  \n",
       "13939    16300.0         no  \n",
       "\n",
       "[500 rows x 8 columns]"
      ]
     },
     "execution_count": 64,
     "metadata": {},
     "output_type": "execute_result"
    }
   ],
   "source": [
    "data"
   ]
  },
  {
   "cell_type": "code",
   "execution_count": 65,
   "metadata": {},
   "outputs": [
    {
     "name": "stdout",
     "output_type": "stream",
     "text": [
      "<class 'pandas.core.frame.DataFrame'>\n",
      "RangeIndex: 500 entries, 13440 to 13939\n",
      "Data columns (total 8 columns):\n",
      " #   Column       Non-Null Count  Dtype  \n",
      "---  ------       --------------  -----  \n",
      " 0   name         500 non-null    object \n",
      " 1   rank         500 non-null    int64  \n",
      " 2   year         500 non-null    int64  \n",
      " 3   industry     500 non-null    object \n",
      " 4   revenue_mil  500 non-null    float64\n",
      " 5   profit_mil   500 non-null    float64\n",
      " 6   employees    500 non-null    float64\n",
      " 7   global_500   500 non-null    string \n",
      "dtypes: float64(3), int64(2), object(2), string(1)\n",
      "memory usage: 31.4+ KB\n"
     ]
    }
   ],
   "source": [
    "data.info()"
   ]
  },
  {
   "cell_type": "code",
   "execution_count": 66,
   "metadata": {},
   "outputs": [
    {
     "data": {
      "text/plain": [
       "71"
      ]
     },
     "execution_count": 66,
     "metadata": {},
     "output_type": "execute_result"
    }
   ],
   "source": [
    "data.industry.nunique()"
   ]
  },
  {
   "cell_type": "code",
   "execution_count": 67,
   "metadata": {},
   "outputs": [
    {
     "data": {
      "text/plain": [
       "name           0\n",
       "rank           0\n",
       "year           0\n",
       "industry       0\n",
       "revenue_mil    0\n",
       "profit_mil     0\n",
       "employees      0\n",
       "global_500     0\n",
       "dtype: int64"
      ]
     },
     "execution_count": 67,
     "metadata": {},
     "output_type": "execute_result"
    }
   ],
   "source": [
    "data.isnull().sum()"
   ]
  },
  {
   "cell_type": "code",
   "execution_count": 68,
   "metadata": {},
   "outputs": [
    {
     "data": {
      "text/html": [
       "<div>\n",
       "<style scoped>\n",
       "    .dataframe tbody tr th:only-of-type {\n",
       "        vertical-align: middle;\n",
       "    }\n",
       "\n",
       "    .dataframe tbody tr th {\n",
       "        vertical-align: top;\n",
       "    }\n",
       "\n",
       "    .dataframe thead th {\n",
       "        text-align: right;\n",
       "    }\n",
       "</style>\n",
       "<table border=\"1\" class=\"dataframe\">\n",
       "  <thead>\n",
       "    <tr style=\"text-align: right;\">\n",
       "      <th></th>\n",
       "      <th>rank</th>\n",
       "      <th>year</th>\n",
       "      <th>revenue_mil</th>\n",
       "      <th>profit_mil</th>\n",
       "      <th>employees</th>\n",
       "    </tr>\n",
       "  </thead>\n",
       "  <tbody>\n",
       "    <tr>\n",
       "      <th>count</th>\n",
       "      <td>500.00000</td>\n",
       "      <td>500.0</td>\n",
       "      <td>500.000000</td>\n",
       "      <td>500.00000</td>\n",
       "      <td>5.000000e+02</td>\n",
       "    </tr>\n",
       "    <tr>\n",
       "      <th>mean</th>\n",
       "      <td>250.49800</td>\n",
       "      <td>2023.0</td>\n",
       "      <td>36288.544000</td>\n",
       "      <td>3612.17800</td>\n",
       "      <td>6.081496e+04</td>\n",
       "    </tr>\n",
       "    <tr>\n",
       "      <th>std</th>\n",
       "      <td>144.48211</td>\n",
       "      <td>0.0</td>\n",
       "      <td>60852.543913</td>\n",
       "      <td>7800.21751</td>\n",
       "      <td>1.357973e+05</td>\n",
       "    </tr>\n",
       "    <tr>\n",
       "      <th>min</th>\n",
       "      <td>1.00000</td>\n",
       "      <td>2023.0</td>\n",
       "      <td>7238.000000</td>\n",
       "      <td>5.00000</td>\n",
       "      <td>3.810000e+02</td>\n",
       "    </tr>\n",
       "    <tr>\n",
       "      <th>25%</th>\n",
       "      <td>125.75000</td>\n",
       "      <td>2023.0</td>\n",
       "      <td>10652.000000</td>\n",
       "      <td>692.75000</td>\n",
       "      <td>1.260175e+04</td>\n",
       "    </tr>\n",
       "    <tr>\n",
       "      <th>50%</th>\n",
       "      <td>250.50000</td>\n",
       "      <td>2023.0</td>\n",
       "      <td>16523.500000</td>\n",
       "      <td>1427.50000</td>\n",
       "      <td>2.665800e+04</td>\n",
       "    </tr>\n",
       "    <tr>\n",
       "      <th>75%</th>\n",
       "      <td>375.25000</td>\n",
       "      <td>2023.0</td>\n",
       "      <td>32043.000000</td>\n",
       "      <td>3328.00000</td>\n",
       "      <td>6.005000e+04</td>\n",
       "    </tr>\n",
       "    <tr>\n",
       "      <th>max</th>\n",
       "      <td>500.00000</td>\n",
       "      <td>2023.0</td>\n",
       "      <td>611289.000000</td>\n",
       "      <td>99803.00000</td>\n",
       "      <td>2.100000e+06</td>\n",
       "    </tr>\n",
       "  </tbody>\n",
       "</table>\n",
       "</div>"
      ],
      "text/plain": [
       "            rank    year    revenue_mil   profit_mil     employees\n",
       "count  500.00000   500.0     500.000000    500.00000  5.000000e+02\n",
       "mean   250.49800  2023.0   36288.544000   3612.17800  6.081496e+04\n",
       "std    144.48211     0.0   60852.543913   7800.21751  1.357973e+05\n",
       "min      1.00000  2023.0    7238.000000      5.00000  3.810000e+02\n",
       "25%    125.75000  2023.0   10652.000000    692.75000  1.260175e+04\n",
       "50%    250.50000  2023.0   16523.500000   1427.50000  2.665800e+04\n",
       "75%    375.25000  2023.0   32043.000000   3328.00000  6.005000e+04\n",
       "max    500.00000  2023.0  611289.000000  99803.00000  2.100000e+06"
      ]
     },
     "execution_count": 68,
     "metadata": {},
     "output_type": "execute_result"
    }
   ],
   "source": [
    "data.describe()"
   ]
  },
  {
   "cell_type": "code",
   "execution_count": 28,
   "metadata": {},
   "outputs": [
    {
     "data": {
      "text/plain": [
       "36288.544"
      ]
     },
     "execution_count": 28,
     "metadata": {},
     "output_type": "execute_result"
    }
   ],
   "source": [
    "data.revenue_mil.mean()"
   ]
  },
  {
   "cell_type": "code",
   "execution_count": 29,
   "metadata": {},
   "outputs": [
    {
     "data": {
      "text/plain": [
       "0     9643.0\n",
       "1    10580.0\n",
       "2    14410.0\n",
       "3    17737.0\n",
       "Name: revenue_mil, dtype: float64"
      ]
     },
     "execution_count": 29,
     "metadata": {},
     "output_type": "execute_result"
    }
   ],
   "source": [
    "data.revenue_mil.mode()"
   ]
  },
  {
   "cell_type": "code",
   "execution_count": 30,
   "metadata": {},
   "outputs": [
    {
     "data": {
      "text/plain": [
       "16523.5"
      ]
     },
     "execution_count": 30,
     "metadata": {},
     "output_type": "execute_result"
    }
   ],
   "source": [
    "data.revenue_mil.median()"
   ]
  },
  {
   "cell_type": "code",
   "execution_count": 74,
   "metadata": {},
   "outputs": [
    {
     "data": {
      "text/plain": [
       "7238.0"
      ]
     },
     "execution_count": 74,
     "metadata": {},
     "output_type": "execute_result"
    }
   ],
   "source": [
    "data.revenue_mil.min()"
   ]
  },
  {
   "cell_type": "code",
   "execution_count": 75,
   "metadata": {},
   "outputs": [
    {
     "data": {
      "text/plain": [
       "611289.0"
      ]
     },
     "execution_count": 75,
     "metadata": {},
     "output_type": "execute_result"
    }
   ],
   "source": [
    "data.revenue_mil.max()"
   ]
  },
  {
   "cell_type": "code",
   "execution_count": 76,
   "metadata": {},
   "outputs": [
    {
     "data": {
      "text/plain": [
       "3703032100.693451"
      ]
     },
     "execution_count": 76,
     "metadata": {},
     "output_type": "execute_result"
    }
   ],
   "source": [
    "data.revenue_mil.var()"
   ]
  },
  {
   "cell_type": "code",
   "execution_count": 77,
   "metadata": {},
   "outputs": [
    {
     "data": {
      "text/plain": [
       "60852.543913081"
      ]
     },
     "execution_count": 77,
     "metadata": {},
     "output_type": "execute_result"
    }
   ],
   "source": [
    "data.revenue_mil.std()"
   ]
  },
  {
   "cell_type": "code",
   "execution_count": 81,
   "metadata": {},
   "outputs": [
    {
     "data": {
      "text/plain": [
       "10652.0"
      ]
     },
     "execution_count": 81,
     "metadata": {},
     "output_type": "execute_result"
    }
   ],
   "source": [
    "data.revenue_mil.quantile(0.25)"
   ]
  },
  {
   "cell_type": "code",
   "execution_count": 82,
   "metadata": {},
   "outputs": [
    {
     "data": {
      "text/plain": [
       "16523.5"
      ]
     },
     "execution_count": 82,
     "metadata": {},
     "output_type": "execute_result"
    }
   ],
   "source": [
    "data.revenue_mil.quantile(0.5)"
   ]
  },
  {
   "cell_type": "code",
   "execution_count": 32,
   "metadata": {},
   "outputs": [
    {
     "data": {
      "text/plain": [
       "rank             250.5\n",
       "year            2023.0\n",
       "revenue_mil    16523.5\n",
       "profit_mil      1427.5\n",
       "employees      26658.0\n",
       "dtype: float64"
      ]
     },
     "execution_count": 32,
     "metadata": {},
     "output_type": "execute_result"
    }
   ],
   "source": [
    "data.median(numeric_only=True)"
   ]
  },
  {
   "cell_type": "code",
   "execution_count": 33,
   "metadata": {},
   "outputs": [
    {
     "name": "stdout",
     "output_type": "stream",
     "text": [
      "<class 'pandas.core.frame.DataFrame'>\n",
      "RangeIndex: 500 entries, 13440 to 13939\n",
      "Data columns (total 8 columns):\n",
      " #   Column       Non-Null Count  Dtype  \n",
      "---  ------       --------------  -----  \n",
      " 0   name         500 non-null    object \n",
      " 1   rank         500 non-null    int64  \n",
      " 2   year         500 non-null    int64  \n",
      " 3   industry     500 non-null    object \n",
      " 4   revenue_mil  500 non-null    float64\n",
      " 5   profit_mil   500 non-null    float64\n",
      " 6   employees    500 non-null    float64\n",
      " 7   global_500   500 non-null    object \n",
      "dtypes: float64(3), int64(2), object(3)\n",
      "memory usage: 31.4+ KB\n"
     ]
    }
   ],
   "source": [
    "data.info()"
   ]
  },
  {
   "cell_type": "code",
   "execution_count": 69,
   "metadata": {},
   "outputs": [
    {
     "data": {
      "text/plain": [
       "13440    yes\n",
       "13441    yes\n",
       "13442    yes\n",
       "13443    yes\n",
       "13444    yes\n",
       "        ... \n",
       "13935     no\n",
       "13936     no\n",
       "13937     no\n",
       "13938     no\n",
       "13939     no\n",
       "Name: global_500, Length: 500, dtype: string"
      ]
     },
     "execution_count": 69,
     "metadata": {},
     "output_type": "execute_result"
    }
   ],
   "source": [
    "data['global_500'].astype('string')"
   ]
  },
  {
   "cell_type": "code",
   "execution_count": 70,
   "metadata": {},
   "outputs": [
    {
     "data": {
      "text/plain": [
       "13440    yes\n",
       "13441    yes\n",
       "13442    yes\n",
       "13443    yes\n",
       "13444    yes\n",
       "        ... \n",
       "13935     no\n",
       "13936     no\n",
       "13937     no\n",
       "13938     no\n",
       "13939     no\n",
       "Name: global_500, Length: 500, dtype: string"
      ]
     },
     "execution_count": 70,
     "metadata": {},
     "output_type": "execute_result"
    }
   ],
   "source": [
    "data['global_500']"
   ]
  },
  {
   "cell_type": "code",
   "execution_count": 71,
   "metadata": {},
   "outputs": [],
   "source": [
    "label=preprocessing.LabelEncoder()"
   ]
  },
  {
   "cell_type": "code",
   "execution_count": 72,
   "metadata": {},
   "outputs": [],
   "source": [
    "data['global_500']=label.fit_transform(data['global_500'])"
   ]
  },
  {
   "cell_type": "code",
   "execution_count": 73,
   "metadata": {},
   "outputs": [
    {
     "data": {
      "text/html": [
       "<div>\n",
       "<style scoped>\n",
       "    .dataframe tbody tr th:only-of-type {\n",
       "        vertical-align: middle;\n",
       "    }\n",
       "\n",
       "    .dataframe tbody tr th {\n",
       "        vertical-align: top;\n",
       "    }\n",
       "\n",
       "    .dataframe thead th {\n",
       "        text-align: right;\n",
       "    }\n",
       "</style>\n",
       "<table border=\"1\" class=\"dataframe\">\n",
       "  <thead>\n",
       "    <tr style=\"text-align: right;\">\n",
       "      <th></th>\n",
       "      <th>name</th>\n",
       "      <th>rank</th>\n",
       "      <th>year</th>\n",
       "      <th>industry</th>\n",
       "      <th>revenue_mil</th>\n",
       "      <th>profit_mil</th>\n",
       "      <th>employees</th>\n",
       "      <th>global_500</th>\n",
       "    </tr>\n",
       "  </thead>\n",
       "  <tbody>\n",
       "    <tr>\n",
       "      <th>13440</th>\n",
       "      <td>Walmart</td>\n",
       "      <td>1</td>\n",
       "      <td>2023</td>\n",
       "      <td>General Merchandisers</td>\n",
       "      <td>611289.0</td>\n",
       "      <td>11680.0</td>\n",
       "      <td>2100000.0</td>\n",
       "      <td>1</td>\n",
       "    </tr>\n",
       "    <tr>\n",
       "      <th>13441</th>\n",
       "      <td>Amazon</td>\n",
       "      <td>2</td>\n",
       "      <td>2023</td>\n",
       "      <td>Internet Services and Retailing</td>\n",
       "      <td>513983.0</td>\n",
       "      <td>2722.0</td>\n",
       "      <td>1541000.0</td>\n",
       "      <td>1</td>\n",
       "    </tr>\n",
       "    <tr>\n",
       "      <th>13442</th>\n",
       "      <td>Exxon Mobil</td>\n",
       "      <td>3</td>\n",
       "      <td>2023</td>\n",
       "      <td>Petroleum Refining</td>\n",
       "      <td>413680.0</td>\n",
       "      <td>55740.0</td>\n",
       "      <td>62000.0</td>\n",
       "      <td>1</td>\n",
       "    </tr>\n",
       "    <tr>\n",
       "      <th>13443</th>\n",
       "      <td>Apple</td>\n",
       "      <td>4</td>\n",
       "      <td>2023</td>\n",
       "      <td>Computers, Office Equipment</td>\n",
       "      <td>394328.0</td>\n",
       "      <td>99803.0</td>\n",
       "      <td>164000.0</td>\n",
       "      <td>1</td>\n",
       "    </tr>\n",
       "    <tr>\n",
       "      <th>13444</th>\n",
       "      <td>UnitedHealth Group</td>\n",
       "      <td>5</td>\n",
       "      <td>2023</td>\n",
       "      <td>Health Care: Insurance and Managed Care</td>\n",
       "      <td>324162.0</td>\n",
       "      <td>20120.0</td>\n",
       "      <td>400000.0</td>\n",
       "      <td>1</td>\n",
       "    </tr>\n",
       "    <tr>\n",
       "      <th>...</th>\n",
       "      <td>...</td>\n",
       "      <td>...</td>\n",
       "      <td>...</td>\n",
       "      <td>...</td>\n",
       "      <td>...</td>\n",
       "      <td>...</td>\n",
       "      <td>...</td>\n",
       "      <td>...</td>\n",
       "    </tr>\n",
       "    <tr>\n",
       "      <th>13935</th>\n",
       "      <td>KKR</td>\n",
       "      <td>496</td>\n",
       "      <td>2023</td>\n",
       "      <td>Securities</td>\n",
       "      <td>7273.0</td>\n",
       "      <td>841.0</td>\n",
       "      <td>4150.0</td>\n",
       "      <td>0</td>\n",
       "    </tr>\n",
       "    <tr>\n",
       "      <th>13936</th>\n",
       "      <td>Equinix</td>\n",
       "      <td>497</td>\n",
       "      <td>2023</td>\n",
       "      <td>Real Estate</td>\n",
       "      <td>7263.0</td>\n",
       "      <td>704.0</td>\n",
       "      <td>12097.0</td>\n",
       "      <td>0</td>\n",
       "    </tr>\n",
       "    <tr>\n",
       "      <th>13937</th>\n",
       "      <td>Sonoco Products</td>\n",
       "      <td>498</td>\n",
       "      <td>2023</td>\n",
       "      <td>Packaging, Containers</td>\n",
       "      <td>7251.0</td>\n",
       "      <td>466.0</td>\n",
       "      <td>22000.0</td>\n",
       "      <td>0</td>\n",
       "    </tr>\n",
       "    <tr>\n",
       "      <th>13938</th>\n",
       "      <td>ServiceNow</td>\n",
       "      <td>499</td>\n",
       "      <td>2023</td>\n",
       "      <td>Computer Software</td>\n",
       "      <td>7245.0</td>\n",
       "      <td>325.0</td>\n",
       "      <td>20433.0</td>\n",
       "      <td>0</td>\n",
       "    </tr>\n",
       "    <tr>\n",
       "      <th>13939</th>\n",
       "      <td>Robert Half International</td>\n",
       "      <td>500</td>\n",
       "      <td>2023</td>\n",
       "      <td>Temporary Help</td>\n",
       "      <td>7238.0</td>\n",
       "      <td>658.0</td>\n",
       "      <td>16300.0</td>\n",
       "      <td>0</td>\n",
       "    </tr>\n",
       "  </tbody>\n",
       "</table>\n",
       "<p>500 rows × 8 columns</p>\n",
       "</div>"
      ],
      "text/plain": [
       "                            name  rank  year  \\\n",
       "13440                    Walmart     1  2023   \n",
       "13441                     Amazon     2  2023   \n",
       "13442                Exxon Mobil     3  2023   \n",
       "13443                      Apple     4  2023   \n",
       "13444         UnitedHealth Group     5  2023   \n",
       "...                          ...   ...   ...   \n",
       "13935                        KKR   496  2023   \n",
       "13936                    Equinix   497  2023   \n",
       "13937            Sonoco Products   498  2023   \n",
       "13938                 ServiceNow   499  2023   \n",
       "13939  Robert Half International   500  2023   \n",
       "\n",
       "                                      industry  revenue_mil  profit_mil  \\\n",
       "13440                    General Merchandisers     611289.0     11680.0   \n",
       "13441          Internet Services and Retailing     513983.0      2722.0   \n",
       "13442                       Petroleum Refining     413680.0     55740.0   \n",
       "13443              Computers, Office Equipment     394328.0     99803.0   \n",
       "13444  Health Care: Insurance and Managed Care     324162.0     20120.0   \n",
       "...                                        ...          ...         ...   \n",
       "13935                               Securities       7273.0       841.0   \n",
       "13936                              Real Estate       7263.0       704.0   \n",
       "13937                    Packaging, Containers       7251.0       466.0   \n",
       "13938                        Computer Software       7245.0       325.0   \n",
       "13939                           Temporary Help       7238.0       658.0   \n",
       "\n",
       "       employees  global_500  \n",
       "13440  2100000.0           1  \n",
       "13441  1541000.0           1  \n",
       "13442    62000.0           1  \n",
       "13443   164000.0           1  \n",
       "13444   400000.0           1  \n",
       "...          ...         ...  \n",
       "13935     4150.0           0  \n",
       "13936    12097.0           0  \n",
       "13937    22000.0           0  \n",
       "13938    20433.0           0  \n",
       "13939    16300.0           0  \n",
       "\n",
       "[500 rows x 8 columns]"
      ]
     },
     "execution_count": 73,
     "metadata": {},
     "output_type": "execute_result"
    }
   ],
   "source": [
    "data"
   ]
  },
  {
   "cell_type": "code",
   "execution_count": 80,
   "metadata": {},
   "outputs": [
    {
     "data": {
      "image/png": "[encoded data removed]",
      "text/plain": [
       "<Figure size 432x288 with 1 Axes>"
      ]
     },
     "metadata": {
      "needs_background": "light"
     },
     "output_type": "display_data"
    }
   ],
   "source": [
    "sns.set(style=\"whitegrid\")\n",
    "ax = sns.countplot(x='global_500', data=data)"
   ]
  },
  {
   "cell_type": "code",
   "execution_count": 86,
   "metadata": {},
   "outputs": [
    {
     "data": {
      "text/plain": [
       "[]"
      ]
     },
     "execution_count": 86,
     "metadata": {},
     "output_type": "execute_result"
    },
    {
     "data": {
      "image/png": "[encoded data removed]",
      "text/plain": [
       "<Figure size 432x288 with 1 Axes>"
      ]
     },
     "metadata": {
      "needs_background": "light"
     },
     "output_type": "display_data"
    }
   ],
   "source": [
    "plt.scatter(data['revenue_mil'],data['profit_mil'])\n",
    "plt.xlabel('Revenue')\n",
    "plt.ylabel('Profit')\n",
    "plt.plot()"
   ]
  },
  {
   "cell_type": "code",
   "execution_count": 96,
   "metadata": {},
   "outputs": [
    {
     "data": {
      "text/plain": [
       "[]"
      ]
     },
     "execution_count": 96,
     "metadata": {},
     "output_type": "execute_result"
    },
    {
     "data": {
      "image/png": "[encoded data removed]",
      "text/plain": [
       "<Figure size 432x288 with 1 Axes>"
      ]
     },
     "metadata": {
      "needs_background": "light"
     },
     "output_type": "display_data"
    }
   ],
   "source": [
    "plt.hist(data['revenue_mil'], bins=10, color=['cyan'], edgecolor='black')\n",
    "plt.xlabel('Revenue')\n",
    "plt.ylabel('Comapnies')\n",
    "plt.plot()"
   ]
  },
  {
   "cell_type": "code",
   "execution_count": null,
   "metadata": {},
   "outputs": [],
   "source": []
  }
 ],
 "metadata": {
  "kernelspec": {
   "display_name": "Python 3",
   "language": "python",
   "name": "python3"
  },
  "language_info": {
   "codemirror_mode": {
    "name": "ipython",
    "version": 3
   },
   "file_extension": ".py",
   "mimetype": "text/x-python",
   "name": "python",
   "nbconvert_exporter": "python",
   "pygments_lexer": "ipython3",
   "version": "3.8.10"
  }
 },
 "nbformat": 4,
 "nbformat_minor": 4
}
